{
 "cells": [
  {
   "cell_type": "code",
   "execution_count": 1,
   "id": "538f2d0f-ddd1-44d2-85c7-f66e6f787cfb",
   "metadata": {
    "tags": []
   },
   "outputs": [],
   "source": [
    "# Data Science Tools and Ecosystem"
   ]
  },
  {
   "cell_type": "code",
   "execution_count": null,
   "id": "99317cd0-612d-41ce-92ef-37315ea339da",
   "metadata": {
    "tags": []
   },
   "outputs": [],
   "source": [
    "In this notebook, Data Science Tools and Ecosystem are summarized."
   ]
  },
  {
   "cell_type": "markdown",
   "id": "67572259",
   "metadata": {},
   "source": [
    "**Objectives:**\n",
    "- List popular languages for Data Science\n",
    "- List commonly used libraries used by Data Scientists\n",
    "- List Data Science Tools"
   ]
  },
  {
   "cell_type": "markdown",
   "id": "96008ef0",
   "metadata": {},
   "source": [
    "## Author\n",
    "Liza May Adiwang"
   ]
  },
  {
   "cell_type": "code",
   "execution_count": null,
   "id": "91d10da2-3b94-49dd-9abe-5f18fefa06aa",
   "metadata": {
    "tags": []
   },
   "outputs": [],
   "source": [
    "Some of the popular languages that Data Scientists use are:\n",
    "1. Python\n",
    "2. R\n",
    "3. SQL\n",
    "4. Javascript\n",
    "5. Java"
   ]
  },
  {
   "cell_type": "code",
   "execution_count": null,
   "id": "361869dc-9627-4a4e-bf45-cbe4dbd5faf2",
   "metadata": {
    "tags": []
   },
   "outputs": [],
   "source": [
    "Some of the commonly used libraries used by Data Scientists include:\n",
    "1. Pandas\n",
    "2. Numpy\n",
    "3. PyTorch\n",
    "4. TensorFlow\n",
    "5. Matplotlib"
   ]
  },
  {
   "cell_type": "code",
   "execution_count": null,
   "id": "ce05690f-5a73-4890-b9d3-b7ea99096d33",
   "metadata": {},
   "outputs": [],
   "source": [
    "|Data Science Tools|\n",
    "|-----|\n",
    "|R Studio|\n",
    "|Apache Spark|\n",
    "|Jupyter Notebook |"
   ]
  },
  {
   "cell_type": "code",
   "execution_count": null,
   "id": "60315ba8-7c44-4675-9c05-6edc1edfb3b0",
   "metadata": {},
   "outputs": [],
   "source": [
    "### Below are a few examples of evaluating arithmetic expressions in Python"
   ]
  },
  {
   "cell_type": "code",
   "execution_count": null,
   "id": "5fbe61c0-a33d-4083-b801-f1f52d2a895d",
   "metadata": {},
   "outputs": [],
   "source": [
    "\"This a simple arithmetic expression to mutiply then add integers\"\n",
    "\n",
    "print ((3*4)+5)"
   ]
  },
  {
   "cell_type": "code",
   "execution_count": null,
   "id": "b8b8f62c",
   "metadata": {},
   "outputs": [],
   "source": [
    "\"This will convert 200 minutes to hours by diving by 60\"\n",
    "\n",
    "print (200/60)"
   ]
  }
 ],
 "metadata": {
  "kernelspec": {
   "display_name": "Python",
   "language": "python",
   "name": "conda-env-python-py"
  },
  "language_info": {
   "codemirror_mode": {
    "name": "ipython",
    "version": 3
   },
   "file_extension": ".py",
   "mimetype": "text/x-python",
   "name": "python",
   "nbconvert_exporter": "python",
   "pygments_lexer": "ipython3",
   "version": "3.7.12"
  }
 },
 "nbformat": 4,
 "nbformat_minor": 5
}
